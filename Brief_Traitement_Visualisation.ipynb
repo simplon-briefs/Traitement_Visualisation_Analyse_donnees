{
 "cells": [
  {
   "source": [
    "# Traitement, Visualisation et Analyse des données"
   ],
   "cell_type": "markdown",
   "metadata": {}
  },
  {
   "source": [
    "### Déploiement de l’environnement"
   ],
   "cell_type": "markdown",
   "metadata": {}
  },
  {
   "cell_type": "code",
   "execution_count": 1,
   "metadata": {},
   "outputs": [],
   "source": [
    "import pandas as pd \n",
    "import numpy as np\n",
    "import matplotlib.pyplot as plt\n",
    "from sklearn.impute import SimpleImputer\n",
    "from sklearn import preprocessing\n",
    "from sklearn.model_selection import train_test_split\n",
    "from sklearn.preprocessing import StandardScaler\n",
    "import statsmodels.api as sm \n",
    "from statsmodels.formula.api import ols"
   ]
  },
  {
   "source": [
    "### Sources de données : Manipulation"
   ],
   "cell_type": "markdown",
   "metadata": {}
  },
  {
   "cell_type": "code",
   "execution_count": 2,
   "metadata": {},
   "outputs": [],
   "source": [
    "credits_immo_csv = pd.read_csv(\"Data_Vis/credit_immo.csv\")\n",
    "credits_immo_json = pd.read_json(\"Data_Vis/credit_immo.json\")\n",
    "credits_immo_xls = pd.read_excel(\"Data_Vis/credit_immo.xls\")"
   ]
  },
  {
   "source": [
    "### Création de DB formée de 6 lignes et 4 colonnes."
   ],
   "cell_type": "markdown",
   "metadata": {}
  },
  {
   "cell_type": "code",
   "execution_count": 4,
   "metadata": {},
   "outputs": [
    {
     "output_type": "execute_result",
     "data": {
      "text/plain": [
       "    taux_de_ventes  croissance_vente  ratio_benefice  ratio_perte\n",
       "a1             1.1               2.0             NaN          4.0\n",
       "a2             2.7               NaN             5.4          7.0\n",
       "a3             5.3               9.0             1.5         15.0"
      ],
      "text/html": "<div>\n<style scoped>\n    .dataframe tbody tr th:only-of-type {\n        vertical-align: middle;\n    }\n\n    .dataframe tbody tr th {\n        vertical-align: top;\n    }\n\n    .dataframe thead th {\n        text-align: right;\n    }\n</style>\n<table border=\"1\" class=\"dataframe\">\n  <thead>\n    <tr style=\"text-align: right;\">\n      <th></th>\n      <th>taux_de_ventes</th>\n      <th>croissance_vente</th>\n      <th>ratio_benefice</th>\n      <th>ratio_perte</th>\n    </tr>\n  </thead>\n  <tbody>\n    <tr>\n      <th>a1</th>\n      <td>1.1</td>\n      <td>2.0</td>\n      <td>NaN</td>\n      <td>4.0</td>\n    </tr>\n    <tr>\n      <th>a2</th>\n      <td>2.7</td>\n      <td>NaN</td>\n      <td>5.4</td>\n      <td>7.0</td>\n    </tr>\n    <tr>\n      <th>a3</th>\n      <td>5.3</td>\n      <td>9.0</td>\n      <td>1.5</td>\n      <td>15.0</td>\n    </tr>\n  </tbody>\n</table>\n</div>"
     },
     "metadata": {},
     "execution_count": 4
    }
   ],
   "source": [
    "ar = np.array([[1.1, 2, np.nan, 4], [2.7, np.nan, 5.4, 7], [5.3, 9, 1.5, 15]])\n",
    "df = pd.DataFrame(ar, index = ['a1', 'a2', 'a3'], columns = [\"taux_de_ventes\", \"croissance_vente\", \"ratio_benefice\", \"ratio_perte\"])\n",
    "df"
   ]
  },
  {
   "cell_type": "code",
   "execution_count": 5,
   "metadata": {},
   "outputs": [
    {
     "output_type": "execute_result",
     "data": {
      "text/plain": [
       "    taux_de_ventes  croissance_vente  ratio_benefice  ratio_perte\n",
       "a1             1.1               2.0             0.0          4.0\n",
       "a2             2.7               0.0             5.4          7.0\n",
       "a3             5.3               9.0             1.5         15.0"
      ],
      "text/html": "<div>\n<style scoped>\n    .dataframe tbody tr th:only-of-type {\n        vertical-align: middle;\n    }\n\n    .dataframe tbody tr th {\n        vertical-align: top;\n    }\n\n    .dataframe thead th {\n        text-align: right;\n    }\n</style>\n<table border=\"1\" class=\"dataframe\">\n  <thead>\n    <tr style=\"text-align: right;\">\n      <th></th>\n      <th>taux_de_ventes</th>\n      <th>croissance_vente</th>\n      <th>ratio_benefice</th>\n      <th>ratio_perte</th>\n    </tr>\n  </thead>\n  <tbody>\n    <tr>\n      <th>a1</th>\n      <td>1.1</td>\n      <td>2.0</td>\n      <td>0.0</td>\n      <td>4.0</td>\n    </tr>\n    <tr>\n      <th>a2</th>\n      <td>2.7</td>\n      <td>0.0</td>\n      <td>5.4</td>\n      <td>7.0</td>\n    </tr>\n    <tr>\n      <th>a3</th>\n      <td>5.3</td>\n      <td>9.0</td>\n      <td>1.5</td>\n      <td>15.0</td>\n    </tr>\n  </tbody>\n</table>\n</div>"
     },
     "metadata": {},
     "execution_count": 5
    }
   ],
   "source": [
    "df = df.fillna(0)\n",
    "df"
   ]
  },
  {
   "cell_type": "code",
   "execution_count": null,
   "metadata": {},
   "outputs": [],
   "source": []
  }
 ],
 "metadata": {
  "kernelspec": {
   "display_name": "Python 3",
   "language": "python",
   "name": "python3"
  },
  "language_info": {
   "codemirror_mode": {
    "name": "ipython",
    "version": 3
   },
   "file_extension": ".py",
   "mimetype": "text/x-python",
   "name": "python",
   "nbconvert_exporter": "python",
   "pygments_lexer": "ipython3",
   "version": "3.8.3-final"
  }
 },
 "nbformat": 4,
 "nbformat_minor": 4
}