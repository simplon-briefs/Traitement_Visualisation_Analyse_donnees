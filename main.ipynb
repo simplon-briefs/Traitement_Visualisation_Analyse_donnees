{
 "cells": [
  {
   "cell_type": "code",
   "execution_count": null,
   "metadata": {},
   "outputs": [],
   "source": [
    "import pandas as pd\n",
    "import numpy as np\n",
    "import matplotlib"
   ]
  },
  {
   "cell_type": "code",
   "execution_count": null,
   "metadata": {},
   "outputs": [],
   "source": [
    "credits_immo_csv = pd.read_csv(\"Data_Vis/credit_immo.csv\")\n",
    "credits_immo_csv.head()"
   ]
  },
  {
   "cell_type": "code",
   "execution_count": null,
   "metadata": {},
   "outputs": [],
   "source": [
    "credits_immo_json = pd.read_json(\"Data_Vis/credit_immo.json\")\n",
    "credits_immo_json.head()"
   ]
  },
  {
   "cell_type": "code",
   "execution_count": null,
   "metadata": {},
   "outputs": [],
   "source": [
    "credits_immo_xls = pd.read_excel(\"Data_Vis/credit_immo.xls\")\n",
    "credits_immo_xls.head()"
   ]
  },
  {
   "cell_type": "code",
   "execution_count": null,
   "metadata": {},
   "outputs": [],
   "source": [
    "credits_immo_csv = pd.read_csv(\"Data_Vis/credit_immo.csv\")\n",
    "credits_immo_csv.head()"
   ]
  },
  {
   "cell_type": "code",
   "execution_count": null,
   "metadata": {},
   "outputs": [],
   "source": [
    "credits_immo_csv"
   ]
  },
  {
   "cell_type": "code",
   "execution_count": null,
   "metadata": {},
   "outputs": [],
   "source": [
    "df = pd.DataFrame(index[])"
   ]
  },
  {
   "source": [
    "### 3.Traitement des données"
   ],
   "cell_type": "markdown",
   "metadata": {}
  },
  {
   "cell_type": "code",
   "execution_count": 17,
   "metadata": {},
   "outputs": [],
   "source": [
    "import pandas as pd \n",
    "import numpy as np\n",
    "from sklearn.impute import SimpleImputer"
   ]
  },
  {
   "cell_type": "code",
   "execution_count": 18,
   "metadata": {},
   "outputs": [
    {
     "output_type": "execute_result",
     "data": {
      "text/plain": [
       "     ID_NOM  Niv_Etude_Bac  age contrat_de_travail  Salaire  dette_anterieure  \\\n",
       "0      jean            3.0   45                CDI    40000              4000   \n",
       "1   VANESSA            5.0   28                CDI    30500              1320   \n",
       "2  TARCISSE            0.0   55                CDI    28000             40000   \n",
       "3   TIBAULT            4.0   23                CDD    15000                 0   \n",
       "4     GILES            0.0   33                CDD    27000              3000   \n",
       "\n",
       "  etat_civile  apport  enfant_a_Charge Solvable  \n",
       "0           M     0.3              3.0      OUI  \n",
       "1           M     0.1              0.0      OUI  \n",
       "2           C     0.0              0.0      NON  \n",
       "3           M     0.1              NaN      OUI  \n",
       "4           C     0.1              2.0      NON  "
      ],
      "text/html": "<div>\n<style scoped>\n    .dataframe tbody tr th:only-of-type {\n        vertical-align: middle;\n    }\n\n    .dataframe tbody tr th {\n        vertical-align: top;\n    }\n\n    .dataframe thead th {\n        text-align: right;\n    }\n</style>\n<table border=\"1\" class=\"dataframe\">\n  <thead>\n    <tr style=\"text-align: right;\">\n      <th></th>\n      <th>ID_NOM</th>\n      <th>Niv_Etude_Bac</th>\n      <th>age</th>\n      <th>contrat_de_travail</th>\n      <th>Salaire</th>\n      <th>dette_anterieure</th>\n      <th>etat_civile</th>\n      <th>apport</th>\n      <th>enfant_a_Charge</th>\n      <th>Solvable</th>\n    </tr>\n  </thead>\n  <tbody>\n    <tr>\n      <th>0</th>\n      <td>jean</td>\n      <td>3.0</td>\n      <td>45</td>\n      <td>CDI</td>\n      <td>40000</td>\n      <td>4000</td>\n      <td>M</td>\n      <td>0.3</td>\n      <td>3.0</td>\n      <td>OUI</td>\n    </tr>\n    <tr>\n      <th>1</th>\n      <td>VANESSA</td>\n      <td>5.0</td>\n      <td>28</td>\n      <td>CDI</td>\n      <td>30500</td>\n      <td>1320</td>\n      <td>M</td>\n      <td>0.1</td>\n      <td>0.0</td>\n      <td>OUI</td>\n    </tr>\n    <tr>\n      <th>2</th>\n      <td>TARCISSE</td>\n      <td>0.0</td>\n      <td>55</td>\n      <td>CDI</td>\n      <td>28000</td>\n      <td>40000</td>\n      <td>C</td>\n      <td>0.0</td>\n      <td>0.0</td>\n      <td>NON</td>\n    </tr>\n    <tr>\n      <th>3</th>\n      <td>TIBAULT</td>\n      <td>4.0</td>\n      <td>23</td>\n      <td>CDD</td>\n      <td>15000</td>\n      <td>0</td>\n      <td>M</td>\n      <td>0.1</td>\n      <td>NaN</td>\n      <td>OUI</td>\n    </tr>\n    <tr>\n      <th>4</th>\n      <td>GILES</td>\n      <td>0.0</td>\n      <td>33</td>\n      <td>CDD</td>\n      <td>27000</td>\n      <td>3000</td>\n      <td>C</td>\n      <td>0.1</td>\n      <td>2.0</td>\n      <td>NON</td>\n    </tr>\n  </tbody>\n</table>\n</div>"
     },
     "metadata": {},
     "execution_count": 18
    }
   ],
   "source": [
    "df = pd.read_csv(\"Data_Vis/credit_immo.csv\")\n",
    "credits_immo_csv.head()"
   ]
  },
  {
   "cell_type": "code",
   "execution_count": 112,
   "metadata": {},
   "outputs": [
    {
     "output_type": "execute_result",
     "data": {
      "text/plain": [
       "array([[ 7. ,  2. ,  3. ],\n",
       "       [ 4. ,  3.5,  6. ],\n",
       "       [10. ,  3.5,  9. ]])"
      ]
     },
     "metadata": {},
     "execution_count": 112
    }
   ],
   "source": [
    "imp_mean = SimpleImputer(missing_values=np.nan, strategy='mean')\n",
    "imp_mean.fit([[7, 2, 3], [4, np.nan, 6], [10, 5, 9]])\n",
    "X = [[np.nan, 2, 3], [4, np.nan, 6], [10, np.nan, 9]]\n",
    "imp_mean.transform(X)"
   ]
  },
  {
   "cell_type": "code",
   "execution_count": 111,
   "metadata": {},
   "outputs": [
    {
     "output_type": "stream",
     "name": "stdout",
     "text": [
      "[[ 3.00000000e+00  4.50000000e+01  4.00000000e+04  4.00000000e+03\n   3.00000000e-01  3.00000000e+00]\n [ 5.00000000e+00  2.80000000e+01  3.05000000e+04  1.32000000e+03\n   1.00000000e-01  0.00000000e+00]\n [ 0.00000000e+00  5.50000000e+01  2.80000000e+04  4.00000000e+04\n   0.00000000e+00  0.00000000e+00]\n [ 4.00000000e+00  2.30000000e+01  1.50000000e+04  0.00000000e+00\n   1.00000000e-01  1.33333333e+00]\n [ 0.00000000e+00  3.30000000e+01  2.70000000e+04  3.00000000e+03\n   1.00000000e-01  2.00000000e+00]\n [ 0.00000000e+00  4.10000000e+01  4.00000000e+04  1.00000000e+03\n   0.00000000e+00  4.00000000e+00]\n [-1.00000000e+00  2.90000000e+01  5.00000000e+04  3.00000000e+03\n   0.00000000e+00  0.00000000e+00]\n [-3.00000000e+00  2.40000000e+01  2.90000000e+04  5.00000000e+03\n   0.00000000e+00  0.00000000e+00]\n [ 1.44444444e+00  2.60000000e+01  4.40000000e+04  0.00000000e+00\n   1.00000000e-01  1.00000000e+00]\n [ 3.00000000e+00  3.70000000e+01  4.58000000e+04  2.00000000e+03\n   2.00000000e-01  2.00000000e+00]\n [ 2.00000000e+00  4.00000000e+01  6.00000000e+04  1.50000000e+03\n   3.00000000e-01  3.00000000e+00]\n [ 0.00000000e+00  3.80000000e+01  2.60000000e+04  8.00000000e+03\n   4.00000000e-01  0.00000000e+00]\n [-3.00000000e+00  3.90000000e+01  2.90000000e+04  4.90000000e+03\n   0.00000000e+00  1.00000000e+00]\n [ 0.00000000e+00  3.10000000e+01  4.30000000e+04  1.00000000e+05\n   2.00000000e-01  2.00000000e+00]\n [ 1.00000000e+00  7.00000000e+01  4.50000000e+04  1.70000000e+04\n   3.00000000e-01  0.00000000e+00]\n [ 0.00000000e+00  4.20000000e+01  7.00000000e+04  2.60000000e+04\n   2.00000000e-01  0.00000000e+00]\n [ 8.00000000e+00  4.60000000e+01  8.00000000e+04  8.00000000e+03\n   0.00000000e+00  3.00000000e+00]\n [ 3.00000000e+00  2.30000000e+01  1.00000000e+05  0.00000000e+00\n   3.00000000e-01  1.00000000e+00]\n [ 4.00000000e+00  3.20000000e+01  2.10000000e+04  1.20000000e+03\n   1.00000000e-01  2.00000000e+00]]\n"
     ]
    }
   ],
   "source": [
    "imp_mean = SimpleImputer(missing_values=np.nan, strategy='mean')\n",
    "num_col = credits_immo_csv.select_dtypes(include=\"number\").columns\n",
    "im = SimpleImputer()\n",
    "imputed = im.fit_transform(credits_immo_csv[num_col])\n",
    "print(imputed)\n",
    "\n"
   ]
  },
  {
   "cell_type": "code",
   "execution_count": 110,
   "metadata": {},
   "outputs": [
    {
     "output_type": "stream",
     "name": "stdout",
     "text": [
      "contrat_de_travail\n[1 1 1 0 0 3 1 3 1 1 1 0 3 1 0 2 1 1 1]\netat_civile\n[1 1 0 1 0 1 0 0 1 1 1 0 1 1 0 1 1 1 1]\nSolvable\n[1 1 0 1 0 0 0 0 1 1 1 0 0 0 0 0 1 1 1]\n"
     ]
    }
   ],
   "source": [
    "colomns_categorie = [\"contrat_de_travail\", \"etat_civile\", \"Solvable\"]\n",
    "def encoder(colomns):\n",
    "    le = preprocessing.LabelEncoder()\n",
    "    le.fit(credits_immo_csv[colomns])\n",
    "    list(le.classes_)\n",
    "    print(le.transform(credits_immo_csv[colomns]))\n",
    "for i in colomns_categorie:\n",
    "    print(i)\n",
    "    encoder(i)"
   ]
  },
  {
   "cell_type": "code",
   "execution_count": 51,
   "metadata": {},
   "outputs": [
    {
     "output_type": "execute_result",
     "data": {
      "text/plain": [
       "ID_NOM                 object\n",
       "Niv_Etude_Bac         float64\n",
       "age                     int64\n",
       "contrat_de_travail     object\n",
       "Salaire                 int64\n",
       "dette_anterieure        int64\n",
       "etat_civile            object\n",
       "apport                float64\n",
       "enfant_a_Charge       float64\n",
       "Solvable               object\n",
       "dtype: object"
      ]
     },
     "metadata": {},
     "execution_count": 51
    }
   ],
   "source": []
  },
  {
   "cell_type": "code",
   "execution_count": 71,
   "metadata": {},
   "outputs": [],
   "source": [
    "from sklearn.model_selection import train_test_split"
   ]
  },
  {
   "cell_type": "code",
   "execution_count": 104,
   "metadata": {},
   "outputs": [
    {
     "output_type": "error",
     "ename": "ValueError",
     "evalue": "Found input variables with inconsistent numbers of samples: [19, 0]",
     "traceback": [
      "\u001b[0;31m---------------------------------------------------------------------------\u001b[0m",
      "\u001b[0;31mValueError\u001b[0m                                Traceback (most recent call last)",
      "\u001b[0;32m<ipython-input-104-9b717144c7c1>\u001b[0m in \u001b[0;36m<module>\u001b[0;34m\u001b[0m\n\u001b[1;32m      1\u001b[0m \u001b[0mx\u001b[0m \u001b[0;34m=\u001b[0m \u001b[0mcredits_immo_csv\u001b[0m\u001b[0;34m.\u001b[0m\u001b[0miloc\u001b[0m\u001b[0;34m[\u001b[0m\u001b[0;34m:\u001b[0m\u001b[0;36m50\u001b[0m\u001b[0;34m]\u001b[0m\u001b[0;34m\u001b[0m\u001b[0;34m\u001b[0m\u001b[0m\n\u001b[1;32m      2\u001b[0m \u001b[0my\u001b[0m \u001b[0;34m=\u001b[0m \u001b[0mcredits_immo_csv\u001b[0m\u001b[0;34m.\u001b[0m\u001b[0miloc\u001b[0m\u001b[0;34m[\u001b[0m\u001b[0;36m50\u001b[0m\u001b[0;34m:\u001b[0m\u001b[0;34m]\u001b[0m\u001b[0;34m\u001b[0m\u001b[0;34m\u001b[0m\u001b[0m\n\u001b[0;32m----> 3\u001b[0;31m \u001b[0mx_test\u001b[0m\u001b[0;34m,\u001b[0m \u001b[0mx_train\u001b[0m\u001b[0;34m,\u001b[0m \u001b[0my_test\u001b[0m\u001b[0;34m,\u001b[0m \u001b[0my_train\u001b[0m \u001b[0;34m=\u001b[0m \u001b[0mtrain_test_split\u001b[0m\u001b[0;34m(\u001b[0m\u001b[0mx\u001b[0m\u001b[0;34m,\u001b[0m\u001b[0my\u001b[0m\u001b[0;34m,\u001b[0m\u001b[0mtest_size\u001b[0m\u001b[0;34m=\u001b[0m\u001b[0;36m0.8\u001b[0m\u001b[0;34m,\u001b[0m \u001b[0mrandom_state\u001b[0m\u001b[0;34m=\u001b[0m\u001b[0;36m3\u001b[0m\u001b[0;34m)\u001b[0m\u001b[0;34m\u001b[0m\u001b[0;34m\u001b[0m\u001b[0m\n\u001b[0m",
      "\u001b[0;32m~/opt/anaconda3/lib/python3.8/site-packages/sklearn/model_selection/_split.py\u001b[0m in \u001b[0;36mtrain_test_split\u001b[0;34m(*arrays, **options)\u001b[0m\n\u001b[1;32m   2125\u001b[0m         \u001b[0;32mraise\u001b[0m \u001b[0mTypeError\u001b[0m\u001b[0;34m(\u001b[0m\u001b[0;34m\"Invalid parameters passed: %s\"\u001b[0m \u001b[0;34m%\u001b[0m \u001b[0mstr\u001b[0m\u001b[0;34m(\u001b[0m\u001b[0moptions\u001b[0m\u001b[0;34m)\u001b[0m\u001b[0;34m)\u001b[0m\u001b[0;34m\u001b[0m\u001b[0;34m\u001b[0m\u001b[0m\n\u001b[1;32m   2126\u001b[0m \u001b[0;34m\u001b[0m\u001b[0m\n\u001b[0;32m-> 2127\u001b[0;31m     \u001b[0marrays\u001b[0m \u001b[0;34m=\u001b[0m \u001b[0mindexable\u001b[0m\u001b[0;34m(\u001b[0m\u001b[0;34m*\u001b[0m\u001b[0marrays\u001b[0m\u001b[0;34m)\u001b[0m\u001b[0;34m\u001b[0m\u001b[0;34m\u001b[0m\u001b[0m\n\u001b[0m\u001b[1;32m   2128\u001b[0m \u001b[0;34m\u001b[0m\u001b[0m\n\u001b[1;32m   2129\u001b[0m     \u001b[0mn_samples\u001b[0m \u001b[0;34m=\u001b[0m \u001b[0m_num_samples\u001b[0m\u001b[0;34m(\u001b[0m\u001b[0marrays\u001b[0m\u001b[0;34m[\u001b[0m\u001b[0;36m0\u001b[0m\u001b[0;34m]\u001b[0m\u001b[0;34m)\u001b[0m\u001b[0;34m\u001b[0m\u001b[0;34m\u001b[0m\u001b[0m\n",
      "\u001b[0;32m~/opt/anaconda3/lib/python3.8/site-packages/sklearn/utils/validation.py\u001b[0m in \u001b[0;36mindexable\u001b[0;34m(*iterables)\u001b[0m\n\u001b[1;32m    291\u001b[0m     \"\"\"\n\u001b[1;32m    292\u001b[0m     \u001b[0mresult\u001b[0m \u001b[0;34m=\u001b[0m \u001b[0;34m[\u001b[0m\u001b[0m_make_indexable\u001b[0m\u001b[0;34m(\u001b[0m\u001b[0mX\u001b[0m\u001b[0;34m)\u001b[0m \u001b[0;32mfor\u001b[0m \u001b[0mX\u001b[0m \u001b[0;32min\u001b[0m \u001b[0miterables\u001b[0m\u001b[0;34m]\u001b[0m\u001b[0;34m\u001b[0m\u001b[0;34m\u001b[0m\u001b[0m\n\u001b[0;32m--> 293\u001b[0;31m     \u001b[0mcheck_consistent_length\u001b[0m\u001b[0;34m(\u001b[0m\u001b[0;34m*\u001b[0m\u001b[0mresult\u001b[0m\u001b[0;34m)\u001b[0m\u001b[0;34m\u001b[0m\u001b[0;34m\u001b[0m\u001b[0m\n\u001b[0m\u001b[1;32m    294\u001b[0m     \u001b[0;32mreturn\u001b[0m \u001b[0mresult\u001b[0m\u001b[0;34m\u001b[0m\u001b[0;34m\u001b[0m\u001b[0m\n\u001b[1;32m    295\u001b[0m \u001b[0;34m\u001b[0m\u001b[0m\n",
      "\u001b[0;32m~/opt/anaconda3/lib/python3.8/site-packages/sklearn/utils/validation.py\u001b[0m in \u001b[0;36mcheck_consistent_length\u001b[0;34m(*arrays)\u001b[0m\n\u001b[1;32m    254\u001b[0m     \u001b[0muniques\u001b[0m \u001b[0;34m=\u001b[0m \u001b[0mnp\u001b[0m\u001b[0;34m.\u001b[0m\u001b[0munique\u001b[0m\u001b[0;34m(\u001b[0m\u001b[0mlengths\u001b[0m\u001b[0;34m)\u001b[0m\u001b[0;34m\u001b[0m\u001b[0;34m\u001b[0m\u001b[0m\n\u001b[1;32m    255\u001b[0m     \u001b[0;32mif\u001b[0m \u001b[0mlen\u001b[0m\u001b[0;34m(\u001b[0m\u001b[0muniques\u001b[0m\u001b[0;34m)\u001b[0m \u001b[0;34m>\u001b[0m \u001b[0;36m1\u001b[0m\u001b[0;34m:\u001b[0m\u001b[0;34m\u001b[0m\u001b[0;34m\u001b[0m\u001b[0m\n\u001b[0;32m--> 256\u001b[0;31m         raise ValueError(\"Found input variables with inconsistent numbers of\"\n\u001b[0m\u001b[1;32m    257\u001b[0m                          \" samples: %r\" % [int(l) for l in lengths])\n\u001b[1;32m    258\u001b[0m \u001b[0;34m\u001b[0m\u001b[0m\n",
      "\u001b[0;31mValueError\u001b[0m: Found input variables with inconsistent numbers of samples: [19, 0]"
     ]
    }
   ],
   "source": [
    "x = credits_immo_csv.iloc[:50]\n",
    "y = credits_immo_csv.iloc[50:]\n",
    "x_test, x_train, y_test, y_train = train_test_split(x,y,test_size=0.8, random_state=3)\n"
   ]
  },
  {
   "cell_type": "code",
   "execution_count": 95,
   "metadata": {},
   "outputs": [
    {
     "output_type": "stream",
     "name": "stdout",
     "text": [
      "[[3. 3.]]\n"
     ]
    }
   ],
   "source": [
    "from sklearn.preprocessing import StandardScaler\n",
    "data = [[0, 0],[0, 0],[1, 1],[1, 1]]\n",
    "scaler = StandardScaler()\n",
    "scaler.fit(data)\n",
    "scaler.transform(data)\n",
    "\n",
    "print(scaler.transform([[2, 2]]))"
   ]
  },
  {
   "cell_type": "code",
   "execution_count": null,
   "metadata": {},
   "outputs": [],
   "source": []
  },
  {
   "cell_type": "code",
   "execution_count": 1,
   "metadata": {},
   "outputs": [
    {
     "output_type": "error",
     "ename": "NameError",
     "evalue": "name 'StandardScaler' is not defined",
     "traceback": [
      "\u001b[0;31m---------------------------------------------------------------------------\u001b[0m",
      "\u001b[0;31mNameError\u001b[0m                                 Traceback (most recent call last)",
      "\u001b[0;32m<ipython-input-1-a34bd52d0648>\u001b[0m in \u001b[0;36m<module>\u001b[0;34m\u001b[0m\n\u001b[0;32m----> 1\u001b[0;31m \u001b[0mscaler\u001b[0m \u001b[0;34m=\u001b[0m \u001b[0mStandardScaler\u001b[0m\u001b[0;34m(\u001b[0m\u001b[0;34m)\u001b[0m\u001b[0;34m\u001b[0m\u001b[0;34m\u001b[0m\u001b[0m\n\u001b[0m\u001b[1;32m      2\u001b[0m \u001b[0mscaler\u001b[0m\u001b[0;34m.\u001b[0m\u001b[0mfit\u001b[0m\u001b[0;34m(\u001b[0m\u001b[0mcredits_immo_csv\u001b[0m\u001b[0;34m)\u001b[0m\u001b[0;34m\u001b[0m\u001b[0;34m\u001b[0m\u001b[0m\n",
      "\u001b[0;31mNameError\u001b[0m: name 'StandardScaler' is not defined"
     ]
    }
   ],
   "source": [
    "scaler = StandardScaler()\n",
    "scaler.fit(credits_immo_csv)"
   ]
  },
  {
   "cell_type": "code",
   "execution_count": null,
   "metadata": {},
   "outputs": [],
   "source": []
  },
  {
   "cell_type": "code",
   "execution_count": 4,
   "metadata": {},
   "outputs": [],
   "source": [
    "# 1.Déploiement de l’environnement\n",
    "import pandas as pd \n",
    "import numpy as np\n",
    "import matplotlib\n",
    "from sklearn.impute import SimpleImputer\n",
    "from sklearn import preprocessing\n",
    "from sklearn.model_selection import train_test_split\n",
    "from sklearn.preprocessing import StandardScaler\n",
    "\n",
    "# 2.Sources de données : Manipulation\n",
    "credits_immo_csv = pd.read_csv(\"Data_Vis/credit_immo.csv\")\n",
    "credits_immo_json = pd.read_json(\"Data_Vis/credit_immo.json\")\n",
    "credits_immo_xls = pd.read_excel(\"Data_Vis/credit_immo.xls\")\n",
    "\n",
    "\n",
    "# 3.Traitement des données\n",
    "#3.2\n",
    "df = pd.read_csv(\"Data_Vis/credit_immo.csv\")\n",
    "#3.3\n",
    "imp_mean = SimpleImputer(missing_values=np.nan, strategy='mean')\n",
    "num_col = credits_immo_csv.select_dtypes(include=\"number\").columns\n",
    "im = SimpleImputer()\n",
    "imputed = im.fit_transform(credits_immo_csv[num_col])\n",
    "#3.4\n",
    "colomns_categorie = [\"contrat_de_travail\", \"etat_civile\", \"Solvable\"]\n",
    "def encoder(colomns):\n",
    "    le = preprocessing.LabelEncoder()\n",
    "    le.fit(credits_immo_csv[colomns])\n",
    "    list(le.classes_)\n",
    "    #print(le.transform(credits_immo_csv[colomns]))\n",
    "for i in colomns_categorie:\n",
    "    #print(i)\n",
    "    encoder(i)\n",
    "\n",
    "#3.5\n",
    "train, test = train_test_split(df, test_size=0.2)\n",
    "\n",
    "#3.6\n"
   ]
  },
  {
   "cell_type": "code",
   "execution_count": 8,
   "metadata": {},
   "outputs": [
    {
     "output_type": "execute_result",
     "data": {
      "text/plain": [
       "array([[ 0.56918094,  0.69964472, -0.15939982, -0.34223088,  1.24354001,\n",
       "         1.29099445],\n",
       "       [ 1.30098501, -0.77738303, -0.61392855, -0.45846885, -0.33161067,\n",
       "        -1.03279556],\n",
       "       [-0.52852516,  1.56848458, -0.73354137,  1.21917467, -1.11918601,\n",
       "        -1.03279556],\n",
       "       [ 0.93508297, -1.21180295, -1.35552804, -0.51572038, -0.33161067,\n",
       "                nan],\n",
       "       [-0.52852516, -0.3429631 , -0.7813865 , -0.38560325, -0.33161067,\n",
       "         0.51639778],\n",
       "       [-0.52852516,  0.35210878, -0.15939982, -0.47234801, -1.11918601,\n",
       "         2.06559112],\n",
       "       [-0.89442719, -0.69049904,  0.31905146, -0.38560325, -1.11918601,\n",
       "        -1.03279556],\n",
       "       [-1.62623126, -1.12491897, -0.68569624, -0.2988585 , -1.11918601,\n",
       "        -1.03279556],\n",
       "       [        nan, -0.951151  ,  0.03198069, -0.51572038, -0.33161067,\n",
       "        -0.25819889],\n",
       "       [ 0.56918094,  0.00457284,  0.11810192, -0.42897563,  0.45596467,\n",
       "         0.51639778],\n",
       "       [ 0.20327891,  0.2652248 ,  0.79750275, -0.45066182,  1.24354001,\n",
       "         1.29099445],\n",
       "       [-0.52852516,  0.09145683, -0.82923162, -0.16874137,  2.03111535,\n",
       "        -1.03279556],\n",
       "       [-1.62623126,  0.17834081, -0.68569624, -0.30319574, -1.11918601,\n",
       "        -0.25819889],\n",
       "       [-0.52852516, -0.51673107, -0.01586444,  3.82151725,  0.45596467,\n",
       "         0.51639778],\n",
       "       [-0.16262313,  2.87174436,  0.07982582,  0.22161002,  1.24354001,\n",
       "        -1.03279556],\n",
       "       [-0.52852516,  0.43899277,  1.27595404,  0.6119614 ,  0.45596467,\n",
       "        -1.03279556],\n",
       "       [ 2.3986911 ,  0.78652871,  1.75440532, -0.16874137, -1.11918601,\n",
       "         1.29099445],\n",
       "       [ 0.56918094, -1.21180295,  2.7113079 , -0.51572038,  1.24354001,\n",
       "        -0.25819889],\n",
       "       [ 0.93508297, -0.42984709, -1.06845727, -0.46367353, -0.33161067,\n",
       "         0.51639778]])"
      ]
     },
     "metadata": {},
     "execution_count": 8
    }
   ],
   "source": [
    "scaler = StandardScaler()\n",
    "scaler.fit(credits_immo_csv[num_col])\n",
    "scaler.mean_\n",
    "scaler.transform(credits_immo_csv[num_col])"
   ]
  },
  {
   "cell_type": "code",
   "execution_count": null,
   "metadata": {},
   "outputs": [],
   "source": []
  }
 ],
 "metadata": {
  "kernelspec": {
   "display_name": "Python 3",
   "language": "python",
   "name": "python3"
  },
  "language_info": {
   "codemirror_mode": {
    "name": "ipython",
    "version": 3
   },
   "file_extension": ".py",
   "mimetype": "text/x-python",
   "name": "python",
   "nbconvert_exporter": "python",
   "pygments_lexer": "ipython3",
   "version": "3.8.3-final"
  }
 },
 "nbformat": 4,
 "nbformat_minor": 4
}